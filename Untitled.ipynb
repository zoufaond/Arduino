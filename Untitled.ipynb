{
 "cells": [
  {
   "cell_type": "code",
   "execution_count": 1,
   "id": "df61f9fe-a2c2-4aa0-8d77-d9c6f96a7ede",
   "metadata": {
    "tags": []
   },
   "outputs": [],
   "source": [
    "import serial\n",
    "import time\n",
    "import numpy as np"
   ]
  },
  {
   "cell_type": "code",
   "execution_count": 4,
   "id": "b320afa3-0822-40b2-963e-8ed2fd6962a5",
   "metadata": {
    "tags": []
   },
   "outputs": [
    {
     "name": "stdout",
     "output_type": "stream",
     "text": [
      "interrupted!\n"
     ]
    }
   ],
   "source": [
    "ser = serial.Serial(port = 'COM6',baudrate=9600)\n",
    "\n",
    "On = \"1\"\n",
    "Off = \"2\"\n",
    "i = 0\n",
    "try:\n",
    "    while True:\n",
    "        sin = np.sin(i)+1\n",
    "        ser.write(bytes(On,'utf-8'))\n",
    "        time.sleep(sin/2)\n",
    "        ser.write(bytes(Off,'utf-8'))\n",
    "        time.sleep(0.3)\n",
    "        i += np.pi/8\n",
    "        print(sin)\n",
    "except KeyboardInterrupt:\n",
    "    print('interrupted!')\n"
   ]
  },
  {
   "cell_type": "code",
   "execution_count": 5,
   "id": "d5fb7e3f-bb7f-4dd1-947d-89eb2625b8e3",
   "metadata": {
    "tags": []
   },
   "outputs": [],
   "source": [
    "ser.close()"
   ]
  },
  {
   "cell_type": "code",
   "execution_count": null,
   "id": "374ecb32-3f47-4aff-9c9a-81fbcec13028",
   "metadata": {},
   "outputs": [],
   "source": []
  }
 ],
 "metadata": {
  "kernelspec": {
   "display_name": "Python 3 (ipykernel)",
   "language": "python",
   "name": "python3"
  },
  "language_info": {
   "codemirror_mode": {
    "name": "ipython",
    "version": 3
   },
   "file_extension": ".py",
   "mimetype": "text/x-python",
   "name": "python",
   "nbconvert_exporter": "python",
   "pygments_lexer": "ipython3",
   "version": "3.11.4"
  }
 },
 "nbformat": 4,
 "nbformat_minor": 5
}
