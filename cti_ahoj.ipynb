{
 "cells": [
  {
   "cell_type": "code",
   "execution_count": 43,
   "id": "01203864-440f-45e3-a347-a5d4758d16a4",
   "metadata": {},
   "outputs": [],
   "source": [
    "import serial\n",
    "import numpy as np"
   ]
  },
  {
   "cell_type": "code",
   "execution_count": 190,
   "id": "3c657a74-2791-4a06-a49c-4fd9d7e734af",
   "metadata": {
    "tags": []
   },
   "outputs": [
    {
     "data": {
      "text/plain": [
       "[b'49 414\\r\\n',\n",
       " b'100 410\\r\\n',\n",
       " b'150 407\\r\\n',\n",
       " b'200 403\\r\\n',\n",
       " b'250 400\\r\\n',\n",
       " b'302 397\\r\\n',\n",
       " b'352 394\\r\\n',\n",
       " b'402 391\\r\\n',\n",
       " b'453 387\\r\\n',\n",
       " b'503 385\\r\\n',\n",
       " b'553 382\\r\\n',\n",
       " b'604 379\\r\\n',\n",
       " b'655 376\\r\\n',\n",
       " b'705 373\\r\\n',\n",
       " b'755 370\\r\\n',\n",
       " b'805 367\\r\\n',\n",
       " b'857 365\\r\\n',\n",
       " b'907 362\\r\\n',\n",
       " b'957 360\\r\\n',\n",
       " b'1007 357\\r\\n',\n",
       " b'1058 355\\r\\n']"
      ]
     },
     "execution_count": 190,
     "metadata": {},
     "output_type": "execute_result"
    }
   ],
   "source": [
    "ser = serial.Serial(port = 'COM3',baudrate=115200)\n",
    "data = []\n",
    "i = 0\n",
    "while True:\n",
    "    read = ser.readline()\n",
    "    data.append(read)\n",
    "    # time, value = (read.decode('utf-8').rstrip()).split()\n",
    "    # valueinstring = str(value,'UTF-8')\n",
    "\n",
    "    # data.append([int(time),int(value)])\n",
    "    \n",
    "    if i==20:\n",
    "        break\n",
    "    i += 1\n",
    "\n",
    "values = []\n",
    "# for value in data:\n",
    "#     time, value = (value.decode('utf-8').rstrip()).split()\n",
    "#     values.append([int(time),int(value)])\n",
    "ser.close()\n",
    "data"
   ]
  },
  {
   "cell_type": "code",
   "execution_count": 191,
   "id": "af1abd0f-b0d4-40cb-8e0b-606b145c7fec",
   "metadata": {
    "tags": []
   },
   "outputs": [
    {
     "data": {
      "text/plain": [
       "array([[  0., 367.],\n",
       "       [ 52., 365.],\n",
       "       [102., 362.],\n",
       "       [152., 360.],\n",
       "       [202., 357.],\n",
       "       [253., 355.]])"
      ]
     },
     "execution_count": 191,
     "metadata": {},
     "output_type": "execute_result"
    }
   ],
   "source": [
    "values = []\n",
    "for value in data[15:]:\n",
    "    time, value = (value.decode('utf-8').rstrip()).split()\n",
    "    values.append([float(time),float(value)])\n",
    "# valuesnew = values[:,0]-values[0,0]\n",
    "valuesnew = np.array(values)\n",
    "valuesnew[:,0]-=valuesnew[0,0]\n",
    "valuesnew"
   ]
  },
  {
   "cell_type": "code",
   "execution_count": 169,
   "id": "a56df11f-befe-4630-bc2a-d393de9e3022",
   "metadata": {
    "tags": []
   },
   "outputs": [],
   "source": [
    "ser.close()"
   ]
  },
  {
   "cell_type": "code",
   "execution_count": 39,
   "id": "011b0fe9-33bd-439b-81ad-0cd98f7925c2",
   "metadata": {
    "tags": []
   },
   "outputs": [],
   "source": [
    "import cv2\n",
    "import mediapipe as mp\n",
    "import numpy as np\n",
    "mp_drawing = mp.solutions.drawing_utils\n",
    "mp_pose = mp.solutions.pose\n",
    "arduino = []\n",
    "ser = serial.Serial(port = 'COM3',baudrate=9600)\n",
    "opencv = []\n",
    "time = []\n",
    "\n",
    "cap = cv2.VideoCapture(0)\n",
    "## Setup mediapipe instance\n",
    "with mp_pose.Pose(min_detection_confidence=0.5, min_tracking_confidence=0.5) as pose:\n",
    "    while cap.isOpened():\n",
    "        ret, frame = cap.read()\n",
    "\n",
    "        # Recolor image to RGB\n",
    "        image = cv2.cvtColor(frame, cv2.COLOR_BGR2RGB)\n",
    "        image.flags.writeable = False\n",
    "\n",
    "        # Make detection\n",
    "        results = pose.process(image)\n",
    "\n",
    "        # Recolor back to BGR\n",
    "        image.flags.writeable = True\n",
    "        image = cv2.cvtColor(image, cv2.COLOR_RGB2BGR)\n",
    "\n",
    "        # Render detections\n",
    "        mp_drawing.draw_landmarks(image, results.pose_landmarks, mp_pose.POSE_CONNECTIONS,\n",
    "                                  mp_drawing.DrawingSpec(color=(245, 117, 66), thickness=2, circle_radius=2),\n",
    "                                  mp_drawing.DrawingSpec(color=(245, 66, 230), thickness=2, circle_radius=2)\n",
    "                                  )\n",
    "\n",
    "        cv2.imshow('Mediapipe Feed', image)\n",
    "        opencv.append(1)\n",
    "        arduino.append(ser.readline())\n",
    "\n",
    "        if cv2.waitKey(10) & 0xFF == ord('q'):\n",
    "            break\n",
    "\n",
    "    cap.release()\n",
    "    cv2.destroyAllWindows()\n",
    "    ser.close()"
   ]
  },
  {
   "cell_type": "code",
   "execution_count": 40,
   "id": "37f62456-db1f-4d66-84fe-795865f553d0",
   "metadata": {
    "tags": []
   },
   "outputs": [
    {
     "name": "stdout",
     "output_type": "stream",
     "text": [
      "277\n"
     ]
    },
    {
     "data": {
      "text/plain": [
       "277"
      ]
     },
     "execution_count": 40,
     "metadata": {},
     "output_type": "execute_result"
    }
   ],
   "source": [
    "print\n",
    "print(len(arduino))\n",
    "print(len(opencv))"
   ]
  },
  {
   "cell_type": "code",
   "execution_count": null,
   "id": "f4aec3bf-7bda-49ea-a2ad-e41f5b04d59f",
   "metadata": {},
   "outputs": [],
   "source": []
  }
 ],
 "metadata": {
  "kernelspec": {
   "display_name": "Python 3 (ipykernel)",
   "language": "python",
   "name": "python3"
  },
  "language_info": {
   "codemirror_mode": {
    "name": "ipython",
    "version": 3
   },
   "file_extension": ".py",
   "mimetype": "text/x-python",
   "name": "python",
   "nbconvert_exporter": "python",
   "pygments_lexer": "ipython3",
   "version": "3.11.5"
  }
 },
 "nbformat": 4,
 "nbformat_minor": 5
}
